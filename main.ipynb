{
 "cells": [
  {
   "cell_type": "markdown",
   "metadata": {},
   "source": [
    "# Uber Customer Experience Analytics Dashboard\n",
    "\n",
    "## Project Overview\n",
    "The dashboard provides comprehensive insights into customer journey patterns \n",
    "within ride-sharing operations, analyzing key performance indicators that \n",
    "directly impact user satisfaction and service efficiency.\n",
    "\n",
    "## Key Metrics Analysis\n",
    "- **Booking Patterns**: Temporal distribution of ride requests across \n",
    "  different time periods, vehicle types, and geographic locations\n",
    "- **Wait Time Analysis**: Correlation between Average Vehicle Time at \n",
    "  Arrival (VTAT) and Average Customer Time at Arrival (CTAT)\n",
    "- **Cancellation Behavior**: Analysis of cancellation rates by customer \n",
    "  and driver segments with underlying reason categorization\n",
    "- **Rating Correlations**: Relationship mapping between service quality \n",
    "  metrics and customer/driver satisfaction scores\n",
    "\n",
    "## Business Value Proposition\n",
    "The analytics framework identifies critical service bottlenecks and \n",
    "optimization opportunities through data-driven insights, enabling \n",
    "strategic decision-making for operational improvements and enhanced \n",
    "customer retention strategies.\n"
   ]
  },
  {
   "cell_type": "markdown",
   "metadata": {},
   "source": [
    "# Data Import and Initial Inspection\n",
    "\n",
    "## Step Description\n",
    "The data import step establishes the foundation for subsequent analysis by loading ride booking records from the Uber dataset into a structured pandas DataFrame. The process includes necessary library imports and a verification step to ensure correct loading.\n",
    "\n",
    "## Goals\n",
    "- Set up a reproducible analysis workflow using Python and pandas\n",
    "- Import booking data from the provided CSV file\n",
    "- Verify successful data import and inspect the dataset's structure\n",
    "- Prepare the data for cleaning, feature selection, and further analysis\n",
    "\n",
    "## Report Notes\n",
    "Initial inspection confirms dataset accessibility and highlights critical columns such as booking status, wait times (VTAT/CTAT), cancellation flags, and ratings, which are essential for customer journey analytics.\n"
   ]
  },
  {
   "cell_type": "code",
   "execution_count": 15,
   "metadata": {
    "execution": {
     "iopub.execute_input": "2025-08-16T14:17:10.036993Z",
     "iopub.status.busy": "2025-08-16T14:17:10.036765Z",
     "iopub.status.idle": "2025-08-16T14:17:11.152482Z",
     "shell.execute_reply": "2025-08-16T14:17:11.151724Z",
     "shell.execute_reply.started": "2025-08-16T14:17:10.036977Z"
    },
    "trusted": true
   },
   "outputs": [
    {
     "name": "stdout",
     "output_type": "stream",
     "text": [
      "         Date      Time    Booking ID   Booking Status   Customer ID  \\\n",
      "0  2024-03-23  12:29:38  \"CNR5884300\"  No Driver Found  \"CID1982111\"   \n",
      "1  2024-11-29  18:01:39  \"CNR1326809\"       Incomplete  \"CID4604802\"   \n",
      "2  2024-08-23  08:56:10  \"CNR8494506\"        Completed  \"CID9202816\"   \n",
      "3  2024-10-21  17:17:25  \"CNR8906825\"        Completed  \"CID2610914\"   \n",
      "4  2024-09-16  22:08:00  \"CNR1950162\"        Completed  \"CID9933542\"   \n",
      "\n",
      "    Vehicle Type      Pickup Location      Drop Location  Avg VTAT  Avg CTAT  \\\n",
      "0          eBike          Palam Vihar            Jhilmil       NaN       NaN   \n",
      "1       Go Sedan        Shastri Nagar  Gurgaon Sector 56       4.9      14.0   \n",
      "2           Auto              Khandsa      Malviya Nagar      13.4      25.8   \n",
      "3  Premier Sedan  Central Secretariat           Inderlok      13.1      28.5   \n",
      "4           Bike     Ghitorni Village        Khan Market       5.3      19.6   \n",
      "\n",
      "   ...  Reason for cancelling by Customer Cancelled Rides by Driver  \\\n",
      "0  ...                                NaN                       NaN   \n",
      "1  ...                                NaN                       NaN   \n",
      "2  ...                                NaN                       NaN   \n",
      "3  ...                                NaN                       NaN   \n",
      "4  ...                                NaN                       NaN   \n",
      "\n",
      "   Driver Cancellation Reason Incomplete Rides  Incomplete Rides Reason  \\\n",
      "0                         NaN              NaN                      NaN   \n",
      "1                         NaN              1.0        Vehicle Breakdown   \n",
      "2                         NaN              NaN                      NaN   \n",
      "3                         NaN              NaN                      NaN   \n",
      "4                         NaN              NaN                      NaN   \n",
      "\n",
      "  Booking Value  Ride Distance  Driver Ratings  Customer Rating  \\\n",
      "0           NaN            NaN             NaN              NaN   \n",
      "1         237.0           5.73             NaN              NaN   \n",
      "2         627.0          13.58             4.9              4.9   \n",
      "3         416.0          34.02             4.6              5.0   \n",
      "4         737.0          48.21             4.1              4.3   \n",
      "\n",
      "   Payment Method  \n",
      "0             NaN  \n",
      "1             UPI  \n",
      "2      Debit Card  \n",
      "3             UPI  \n",
      "4             UPI  \n",
      "\n",
      "[5 rows x 21 columns]\n"
     ]
    }
   ],
   "source": [
    "import pandas as pd\n",
    "\n",
    "# Load Uber ride dataset (replace with correct file path if necessary)\n",
    "df = pd.read_csv(\"ncr_ride_bookings.csv\")\n",
    "\n",
    "# Inspect first few rows to verify data load\n",
    "print(df.head())\n"
   ]
  },
  {
   "cell_type": "markdown",
   "metadata": {},
   "source": [
    "# Dataset Structure and Quality Assessment\n",
    "\n",
    "## Step Description\n",
    "This phase confirms the structure and integrity of the loaded dataset by reviewing column types and scanning for missing or null entries. The process ensures all columns needed for customer journey analytics—such as booking status, wait times, cancellation flags, and ratings—are present, well-named, and free of significant missing data.\n",
    "\n",
    "## Objectives\n",
    "- Review all column names and associated data types\n",
    "- Summarize missing values per column to detect any data quality issues\n",
    "- Confirm the presence of critical fields required for core analytics\n",
    "\n",
    "## Report Notes\n",
    "Initial findings indicate columns such as airline, flight, city information, timings, and other journey descriptors are complete, with no missing values detected in the first ten columns. This ensures a strong foundation for reliable subsequent analysis and dashboard development.\n"
   ]
  },
  {
   "cell_type": "code",
   "execution_count": 16,
   "metadata": {
    "execution": {
     "iopub.execute_input": "2025-08-16T14:20:17.844154Z",
     "iopub.status.busy": "2025-08-16T14:20:17.843528Z",
     "iopub.status.idle": "2025-08-16T14:20:18.025981Z",
     "shell.execute_reply": "2025-08-16T14:20:18.025386Z",
     "shell.execute_reply.started": "2025-08-16T14:20:17.844130Z"
    },
    "trusted": true
   },
   "outputs": [
    {
     "name": "stdout",
     "output_type": "stream",
     "text": [
      "<class 'pandas.core.frame.DataFrame'>\n",
      "RangeIndex: 150000 entries, 0 to 149999\n",
      "Data columns (total 21 columns):\n",
      " #   Column                             Non-Null Count   Dtype  \n",
      "---  ------                             --------------   -----  \n",
      " 0   Date                               150000 non-null  object \n",
      " 1   Time                               150000 non-null  object \n",
      " 2   Booking ID                         150000 non-null  object \n",
      " 3   Booking Status                     150000 non-null  object \n",
      " 4   Customer ID                        150000 non-null  object \n",
      " 5   Vehicle Type                       150000 non-null  object \n",
      " 6   Pickup Location                    150000 non-null  object \n",
      " 7   Drop Location                      150000 non-null  object \n",
      " 8   Avg VTAT                           139500 non-null  float64\n",
      " 9   Avg CTAT                           102000 non-null  float64\n",
      " 10  Cancelled Rides by Customer        10500 non-null   float64\n",
      " 11  Reason for cancelling by Customer  10500 non-null   object \n",
      " 12  Cancelled Rides by Driver          27000 non-null   float64\n",
      " 13  Driver Cancellation Reason         27000 non-null   object \n",
      " 14  Incomplete Rides                   9000 non-null    float64\n",
      " 15  Incomplete Rides Reason            9000 non-null    object \n",
      " 16  Booking Value                      102000 non-null  float64\n",
      " 17  Ride Distance                      102000 non-null  float64\n",
      " 18  Driver Ratings                     93000 non-null   float64\n",
      " 19  Customer Rating                    93000 non-null   float64\n",
      " 20  Payment Method                     102000 non-null  object \n",
      "dtypes: float64(9), object(12)\n",
      "memory usage: 24.0+ MB\n",
      "Date                   0\n",
      "Time                   0\n",
      "Booking ID             0\n",
      "Booking Status         0\n",
      "Customer ID            0\n",
      "Vehicle Type           0\n",
      "Pickup Location        0\n",
      "Drop Location          0\n",
      "Avg VTAT           10500\n",
      "Avg CTAT           48000\n",
      "dtype: int64\n"
     ]
    }
   ],
   "source": [
    "# Check dataset structure and missing value summary\n",
    "df.info()\n",
    "print(df.isnull().sum().head(10))  # Missing values in first 10 columns"
   ]
  },
  {
   "cell_type": "markdown",
   "metadata": {},
   "source": [
    "# Data Structure and Quality Results\n",
    "\n",
    "## Step Description\n",
    "The structure and quality of the dataset have been inspected, including all 21 columns and their respective data types. The count of non-null entries is displayed for each field, highlighting where missing values may affect analysis.\n",
    "\n",
    "## Key Observations\n",
    "- **Complete Columns**: Fields such as Date, Time, Booking ID, Booking Status, Customer ID, Vehicle Type, Pickup Location, and Drop Location report full data coverage.\n",
    "- **Partial Columns**: Avg VTAT has 10,500 missing values, Avg CTAT has 48,000, and several numeric fields—Cancelled and Incomplete rides-related fields—are largely sparse.\n",
    "- **Ratings and Value Columns**: Substantial missingness exists in fields like Booking Value, Ride Distance, Driver/Customer Ratings, typically because these only apply to completed rides.\n",
    "- **Textual Fields for Cancellations**: Reason columns correspond to their respective flags, populated only for those filtered events.\n",
    "\n",
    "## Analytical Considerations\n",
    "Fields with missing values, especially for timing, cancellation, incomplete rides, and service feedback, require careful preprocessing. Completed rides are the primary source for most customer journey analytics (wait times and ratings), so filtering and cleaning will focus on removing or imputing missing data as suited to the analytical objective.\n"
   ]
  },
  {
   "cell_type": "markdown",
   "metadata": {},
   "source": [
    "# Data Cleaning and Preparation\n",
    "\n",
    "## Step Description\n",
    "This stage isolates the subset of the data relevant to customer journey analytics—specifically completed bookings—and removes records with missing values in key analytical columns such as wait times, booking values, ride distance, and service ratings.\n",
    "\n",
    "## Objectives\n",
    "- Focus analysis on completed rides for reliable measurement of customer experience metrics.\n",
    "- Remove records that lack essential information required for wait time, value, distance, or satisfaction analytics.\n",
    "- Standardize the dataset for downstream feature engineering, visualization, and modeling steps.\n",
    "\n",
    "## Report Notes\n",
    "Data cleaning ensures that subsequent analyses—including patterns in wait times, cancellation behavior, and rating correlation—are based on high-quality, complete records, thus improving the validity and interpretability of all customer journey insights.\n"
   ]
  },
  {
   "cell_type": "code",
   "execution_count": 17,
   "metadata": {
    "execution": {
     "iopub.execute_input": "2025-08-16T14:21:50.277276Z",
     "iopub.status.busy": "2025-08-16T14:21:50.276919Z",
     "iopub.status.idle": "2025-08-16T14:21:50.337936Z",
     "shell.execute_reply": "2025-08-16T14:21:50.336936Z",
     "shell.execute_reply.started": "2025-08-16T14:21:50.277253Z"
    },
    "trusted": true
   },
   "outputs": [
    {
     "name": "stdout",
     "output_type": "stream",
     "text": [
      "Completed rides before cleaning: 93000\n",
      "Completed rides after cleaning: (93000, 21)\n"
     ]
    }
   ],
   "source": [
    "# Filter for completed rides, as core analytics (wait times, ratings, values) generally apply to these\n",
    "completed = df[df[\"Booking Status\"] == \"Completed\"].copy()\n",
    "\n",
    "# Example: Drop records with critical missing data in customer journey analytics\n",
    "cleaned = completed.dropna(subset=[\"Avg VTAT\", \"Avg CTAT\", \"Booking Value\", \"Ride Distance\", \"Driver Ratings\", \"Customer Rating\", \"Payment Method\"])\n",
    "\n",
    "# Confirm shape after cleaning\n",
    "print(\"Completed rides before cleaning:\", completed.shape[0])\n",
    "print(\"Completed rides after cleaning:\", cleaned.shape)\n",
    "\n",
    "# Optional: Reset index for downstream convenience\n",
    "cleaned.reset_index(drop=True, inplace=True)\n"
   ]
  },
  {
   "cell_type": "markdown",
   "metadata": {},
   "source": [
    "# Feature Engineering and Analytical Augmentation\n",
    "\n",
    "## Step Description\n",
    "This stage creates new variables and augments existing ones to enhance the analytical depth of customer journey investigations. Features such as wait time difference, rating categorization, and trip time segmentation are engineered to facilitate key insights and visualization.\n",
    "\n",
    "## Objectives\n",
    "- Construct composite metrics, e.g., wait time difference (VTAT-CTAT), for diagnostic analysis.\n",
    "- Categorize continuous variables like customer ratings for segmentation and plotting.\n",
    "- Extract temporal components (hours, days-of-week) to reveal time-based usage patterns.\n",
    "\n",
    "## Report Notes\n",
    "Feature engineering transforms base data into rich analytical variables, laying the groundwork for pattern discovery, visualization, and predictive modeling. Proper feature construction directly improves the interpretability and actionability of dashboard insights.\n"
   ]
  },
  {
   "cell_type": "code",
   "execution_count": 18,
   "metadata": {
    "execution": {
     "iopub.execute_input": "2025-08-16T14:22:39.686039Z",
     "iopub.status.busy": "2025-08-16T14:22:39.685402Z",
     "iopub.status.idle": "2025-08-16T14:22:41.460252Z",
     "shell.execute_reply": "2025-08-16T14:22:41.459574Z",
     "shell.execute_reply.started": "2025-08-16T14:22:39.686016Z"
    },
    "trusted": true
   },
   "outputs": [
    {
     "name": "stderr",
     "output_type": "stream",
     "text": [
      "C:\\Users\\manga\\AppData\\Local\\Temp\\ipykernel_13404\\3993173944.py:15: UserWarning:\n",
      "\n",
      "Could not infer format, so each element will be parsed individually, falling back to `dateutil`. To ensure parsing is consistent and as-expected, please specify a format.\n",
      "\n"
     ]
    },
    {
     "name": "stdout",
     "output_type": "stream",
     "text": [
      "   Wait Time Diff Customer Rating Category  Hour\n",
      "0           -12.4                     High     8\n",
      "1           -15.4                     High    17\n",
      "2           -14.3                     High    22\n",
      "3           -13.0                     High     9\n",
      "4           -13.3                     High    15\n"
     ]
    }
   ],
   "source": [
    "import numpy as np\n",
    "\n",
    "# Example: Calculate total wait time difference for each ride\n",
    "cleaned[\"Wait Time Diff\"] = cleaned[\"Avg VTAT\"] - cleaned[\"Avg CTAT\"]\n",
    "\n",
    "# Example: Create rating categories for visual analytics\n",
    "cleaned[\"Customer Rating Category\"] = pd.cut(\n",
    "    cleaned[\"Customer Rating\"], \n",
    "    bins=[0,2,3.5,5], \n",
    "    labels=[\"Low\", \"Average\", \"High\"],\n",
    "    include_lowest=True\n",
    ")\n",
    "\n",
    "# Example: Derive hour of day from time string for temporal analysis\n",
    "cleaned[\"Hour\"] = pd.to_datetime(cleaned[\"Time\"]).dt.hour\n",
    "\n",
    "# Review newly constructed features\n",
    "print(cleaned[[\"Wait Time Diff\", \"Customer Rating Category\", \"Hour\"]].head())\n"
   ]
  },
  {
   "cell_type": "markdown",
   "metadata": {},
   "source": [
    "# Exploratory Data Analysis (EDA) and Visualization\n",
    "\n",
    "## Step Description\n",
    "This phase utilizes visual and statistical techniques to examine engineered features, detect patterns, and generate actionable questions. The focus is on how wait times, ratings, and time-based variables interact across the customer journey.\n",
    "\n",
    "## Objectives\n",
    "- Plot and interpret the distribution of wait time differences\n",
    "- Explore the relationship between customer feedback (rating category) and service delivery (wait times)\n",
    "- Identify temporal trends by examining ride volumes across different hours\n",
    "\n",
    "## Report Notes\n",
    "Exploratory visualization guides the identification of operational pain points and satisfaction drivers. Key findings from these charts will feed directly into the design of the interactive analytics dashboard.\n"
   ]
  },
  {
   "cell_type": "code",
   "execution_count": 19,
   "metadata": {
    "execution": {
     "iopub.execute_input": "2025-08-16T14:23:40.516011Z",
     "iopub.status.busy": "2025-08-16T14:23:40.515539Z",
     "iopub.status.idle": "2025-08-16T14:23:41.345563Z",
     "shell.execute_reply": "2025-08-16T14:23:41.344860Z",
     "shell.execute_reply.started": "2025-08-16T14:23:40.515987Z"
    },
    "trusted": true
   },
   "outputs": [
    {
     "data": {
      "image/png": "[encoded data removed]",
      "text/plain": [
       "<Figure size 640x480 with 1 Axes>"
      ]
     },
     "metadata": {},
     "output_type": "display_data"
    },
    {
     "data": {
      "image/png": "[encoded data removed]",
      "text/plain": [
       "<Figure size 640x480 with 1 Axes>"
      ]
     },
     "metadata": {},
     "output_type": "display_data"
    },
    {
     "data": {
      "image/png": "[encoded data removed]",
      "text/plain": [
       "<Figure size 640x480 with 1 Axes>"
      ]
     },
     "metadata": {},
     "output_type": "display_data"
    }
   ],
   "source": [
    "import matplotlib.pyplot as plt\n",
    "\n",
    "# Example: Visualize distribution of Wait Time Difference\n",
    "plt.hist(cleaned[\"Wait Time Diff\"], bins=30, color='skyblue', edgecolor='black')\n",
    "plt.xlabel('Wait Time Difference (VTAT - CTAT)')\n",
    "plt.ylabel('Number of Rides')\n",
    "plt.title('Distribution of Wait Time Difference')\n",
    "plt.show()\n",
    "\n",
    "# Example: Box plot of Wait Time Difference by Customer Rating Category\n",
    "cleaned.boxplot(column=\"Wait Time Diff\", by=\"Customer Rating Category\")\n",
    "plt.xlabel('Customer Rating Category')\n",
    "plt.ylabel('Wait Time Difference')\n",
    "plt.title('Wait Time Difference by Customer Rating Category')\n",
    "plt.suptitle('')\n",
    "plt.show()\n",
    "\n",
    "# Example: Rides per Hour\n",
    "cleaned.groupby(\"Hour\").size().plot(kind='bar')\n",
    "plt.xlabel('Hour of Day')\n",
    "plt.ylabel('Number of Completed Rides')\n",
    "plt.title('Rides Distribution by Hour of Day')\n",
    "plt.show()\n"
   ]
  },
  {
   "cell_type": "markdown",
   "metadata": {},
   "source": [
    "## Exploratory Data Analysis: Insights\n",
    "* **Wait Time Difference Distribution:** The first histogram shows a roughly bell-shaped distribution of wait time differences (VTAT - CTAT), peaking between -30 to -15 minutes. Most rides cluster around moderate negative values (i.e., vehicles generally arrive before customers, but neither is extremely early or late), with relatively few rides at the extremes near 0 or -40 minutes.\n",
    "* **Wait Time by Customer Rating Category:** The second box plot demonstrates that the distribution of wait time differences is remarkably similar across customer rating categories (“Low”, “Average”, “High”). All categories have similar medians and spread, indicating that customer satisfaction (as measured by rating) is not strongly determined by this particular wait time metric in this dataset.\n",
    "* **Rides by Hour of Day:** The third bar chart reveals strong temporal patterns in ride completions. Demand is lowest overnight and surges after 7–8 AM, rising through the day, peaking in the evening (~6–8 PM), then tapering off after 9–10 PM. This reflects expected commuting and social mobility patterns in an urban context.\n",
    "\n"
   ]
  },
  {
   "cell_type": "markdown",
   "metadata": {},
   "source": [
    "# Deep-Dive Analytics and Dashboard Development\n",
    "\n",
    "## Analysis Summary\n",
    "- The bell-shaped wait time difference indicates operational efficiency with most arrivals synchronized and relatively few major mismatches.\n",
    "- Minimal difference in wait time by customer rating suggests that other service factors may drive satisfaction/dissatisfaction.\n",
    "- Ride distribution by hour confirms predictable demand surges, crucial for fleet allocation and dynamic pricing.\n",
    "\n",
    "## Next Steps\n",
    "- Conduct further segmentation (by vehicle type, payment method, pickup/drop location, etc.) to reveal actionable sub-patterns.\n",
    "- Analyze the impact of operational features (distance, value, payment, segment) on key customer experience metrics.\n",
    "- Assemble interactive dashboard components (temporal heatmaps, segmented KPIs, dynamic filters), integrating the summarized and visualized insights for business decision-makers.\n",
    "\n",
    "## Report Notes\n",
    "This stage transitions from general exploratory analysis to targeted business intelligence insights, structuring findings in a form readily convertible to advanced dashboard or reporting solutions.\n"
   ]
  },
  {
   "cell_type": "code",
   "execution_count": 20,
   "metadata": {
    "execution": {
     "iopub.execute_input": "2025-08-16T14:27:32.945263Z",
     "iopub.status.busy": "2025-08-16T14:27:32.944967Z",
     "iopub.status.idle": "2025-08-16T14:27:32.974286Z",
     "shell.execute_reply": "2025-08-16T14:27:32.973677Z",
     "shell.execute_reply.started": "2025-08-16T14:27:32.945243Z"
    },
    "trusted": true
   },
   "outputs": [
    {
     "name": "stdout",
     "output_type": "stream",
     "text": [
      "               Num Rides  Avg VTAT   Avg CTAT  Driver Ratings  Customer Rating\n",
      "Vehicle Type                                                                  \n",
      "Auto               23155  8.490136  30.033176        4.232369         4.402000\n",
      "Bike               14034  8.567721  30.067921        4.230056         4.403940\n",
      "Go Mini            18549  8.523559  30.048612        4.227694         4.404297\n",
      "Go Sedan           16676  8.489578  29.947721        4.231812         4.409996\n",
      "Premier Sedan      11252  8.465837  30.087140        4.234865         4.403457\n",
      "Uber XL             2783  8.593101  30.065325        4.238340         4.404851\n",
      "eBike               6551  8.537368  30.048878        4.225614         4.403954\n"
     ]
    }
   ],
   "source": [
    "# Example: Further analytics\n",
    "# 1. Explore relationships between other operational metrics (like Booking Value, Ride Distance) and customer satisfaction.\n",
    "# 2. Segment by vehicle type, location, or payment method for more granular insights.\n",
    "# 3. Prepare final summary tables and visualizations for dashboard integration.\n",
    "\n",
    "# Example: Group by vehicle type and summarize ride counts, average wait times, and average ratings\n",
    "summary = cleaned.groupby(\"Vehicle Type\").agg({\n",
    "    \"Booking ID\": \"count\",\n",
    "    \"Avg VTAT\": \"mean\",\n",
    "    \"Avg CTAT\": \"mean\",\n",
    "    \"Driver Ratings\": \"mean\",\n",
    "    \"Customer Rating\": \"mean\"\n",
    "}).rename(columns={\"Booking ID\": \"Num Rides\"})\n",
    "\n",
    "print(summary)\n"
   ]
  },
  {
   "cell_type": "markdown",
   "metadata": {},
   "source": [
    "# Segmentation and Comparative Analytics\n",
    "\n",
    "## Step Description\n",
    "Operational and behavioral variables (vehicle type, payment method, key locations) are segmented to support strategic differentiation and targeted interventions. Comparisons are drawn to identify top-performing segments, uncover pain points, and optimize resource allocation.\n",
    "\n",
    "## Objectives\n",
    "- Quantify and compare customer experience and operational metrics across main service segments.\n",
    "- Highlight best- and worst-performing vehicle types, locations, and payment categories.\n",
    "- Prepare summary tables and segment-specific visualizations to surface actionable trends in the dashboard.\n",
    "\n",
    "## Report Notes\n",
    "Segmentation pinpoints where customer journey metrics diverge from the norm, guiding targeted service improvements, fleet allocation, and pricing strategies. Segment-wise results will form prominent dashboard tiles and filterable components for decision support.\n"
   ]
  },
  {
   "cell_type": "code",
   "execution_count": 21,
   "metadata": {
    "execution": {
     "iopub.execute_input": "2025-08-16T14:28:26.021417Z",
     "iopub.status.busy": "2025-08-16T14:28:26.020749Z",
     "iopub.status.idle": "2025-08-16T14:28:26.110259Z",
     "shell.execute_reply": "2025-08-16T14:28:26.109482Z",
     "shell.execute_reply.started": "2025-08-16T14:28:26.021393Z"
    },
    "trusted": true
   },
   "outputs": [
    {
     "name": "stdout",
     "output_type": "stream",
     "text": [
      "               Num_Rides  Avg_Wait_Diff  Avg_Booking_Value  Avg_Ride_Distance  \\\n",
      "Vehicle Type                                                                    \n",
      "Auto               23155     -21.543040         506.483049          25.989588   \n",
      "Bike               14034     -21.500200         509.114508          25.998760   \n",
      "Go Mini            18549     -21.525053         507.381422          25.989844   \n",
      "Go Sedan           16676     -21.458143         512.026865          25.977648   \n",
      "Premier Sedan      11252     -21.621303         509.567632          25.946155   \n",
      "Uber XL             2783     -21.472224         505.302192          25.723284   \n",
      "eBike               6551     -21.511510         503.458556          26.342151   \n",
      "\n",
      "               Avg_Rating  \n",
      "Vehicle Type               \n",
      "Auto             4.402000  \n",
      "Bike             4.403940  \n",
      "Go Mini          4.404297  \n",
      "Go Sedan         4.409996  \n",
      "Premier Sedan    4.403457  \n",
      "Uber XL          4.404851  \n",
      "eBike            4.403954  \n",
      "                Num_Rides  Avg_Wait_Diff  Avg_Rating\n",
      "Payment Method                                      \n",
      "Cash                23114     -21.536246    4.405369\n",
      "Credit Card          9320     -21.372607    4.408058\n",
      "Debit Card           7526     -21.641071    4.405753\n",
      "UPI                 41834     -21.524267    4.402137\n",
      "Uber Wallet         11206     -21.535847    4.408424\n",
      "                  Num_Rides  Avg_Wait_Diff\n",
      "Pickup Location                           \n",
      "Khandsa                 600     -21.290500\n",
      "Barakhamba Road         594     -21.840067\n",
      "Subhash Chowk           582     -20.734536\n",
      "Madipur                 579     -22.098791\n",
      "Mehrauli                574     -21.505575\n",
      "Kanhaiya Nagar          572     -21.332517\n",
      "Ashok Park Main         568     -21.767254\n",
      "Badarpur                567     -20.764198\n",
      "Dwarka Sector 21        565     -21.797345\n",
      "Lok Kalyan Marg         564     -21.390780\n"
     ]
    }
   ],
   "source": [
    "# Segment and compare operational metrics by vehicle type\n",
    "vehicle_summary = cleaned.groupby(\"Vehicle Type\").agg(\n",
    "    Num_Rides=(\"Booking ID\", \"count\"),\n",
    "    Avg_Wait_Diff=(\"Wait Time Diff\", \"mean\"),\n",
    "    Avg_Booking_Value=(\"Booking Value\", \"mean\"),\n",
    "    Avg_Ride_Distance=(\"Ride Distance\", \"mean\"),\n",
    "    Avg_Rating=(\"Customer Rating\", \"mean\")\n",
    ")\n",
    "print(vehicle_summary)\n",
    "\n",
    "# Example: Compare ratings and wait times by payment method\n",
    "payment_summary = cleaned.groupby(\"Payment Method\").agg(\n",
    "    Num_Rides=(\"Booking ID\", \"count\"),\n",
    "    Avg_Wait_Diff=(\"Wait Time Diff\", \"mean\"),\n",
    "    Avg_Rating=(\"Customer Rating\", \"mean\")\n",
    ")\n",
    "print(payment_summary)\n",
    "\n",
    "# Example: Geographic segmentation (if location data available)\n",
    "location_summary = cleaned.groupby(\"Pickup Location\").agg(\n",
    "    Num_Rides=(\"Booking ID\", \"count\"),\n",
    "    Avg_Wait_Diff=(\"Wait Time Diff\", \"mean\")\n",
    ").sort_values(\"Num_Rides\", ascending=False).head(10)\n",
    "print(location_summary)\n"
   ]
  },
  {
   "cell_type": "markdown",
   "metadata": {},
   "source": [
    "# Correlation Analysis and KPI Definition\n",
    "\n",
    "## Step Description\n",
    "This phase examines statistical relationships between operational metrics and customer satisfaction indicators, while establishing the primary KPIs that will anchor the dashboard's performance monitoring capabilities.\n",
    "\n",
    "## Objectives\n",
    "- Generate correlation matrix to identify which operational factors most strongly influence customer ratings and satisfaction.\n",
    "- Define standardized KPIs for consistent performance tracking across time periods and segments.\n",
    "- Identify outlier patterns and concerning trends that require management attention.\n",
    "\n",
    "## Report Notes\n",
    "Correlation insights reveal which operational levers have the strongest impact on customer experience, enabling prioritized improvement efforts. Established KPIs provide dashboard users with consistent, interpretable metrics for ongoing performance assessment and strategic decision-making.\n"
   ]
  },
  {
   "cell_type": "code",
   "execution_count": 22,
   "metadata": {
    "execution": {
     "iopub.execute_input": "2025-08-16T14:30:13.844404Z",
     "iopub.status.busy": "2025-08-16T14:30:13.844118Z",
     "iopub.status.idle": "2025-08-16T14:30:13.885613Z",
     "shell.execute_reply": "2025-08-16T14:30:13.885046Z",
     "shell.execute_reply.started": "2025-08-16T14:30:13.844385Z"
    },
    "trusted": true
   },
   "outputs": [
    {
     "name": "stdout",
     "output_type": "stream",
     "text": [
      "                 Avg VTAT  Avg CTAT  Wait Time Diff  Booking Value  \\\n",
      "Avg VTAT         1.000000  0.001501        0.396402       0.002823   \n",
      "Avg CTAT         0.001501  1.000000       -0.917481       0.000740   \n",
      "Wait Time Diff   0.396402 -0.917481        1.000000       0.000444   \n",
      "Booking Value    0.002823  0.000740        0.000444       1.000000   \n",
      "Ride Distance    0.003858  0.001486        0.000171       0.005668   \n",
      "Driver Ratings  -0.005439  0.000807       -0.002905      -0.000249   \n",
      "Customer Rating -0.003945  0.001000       -0.002487      -0.000287   \n",
      "\n",
      "                 Ride Distance  Driver Ratings  Customer Rating  \n",
      "Avg VTAT              0.003858       -0.005439        -0.003945  \n",
      "Avg CTAT              0.001486        0.000807         0.001000  \n",
      "Wait Time Diff        0.000171       -0.002905        -0.002487  \n",
      "Booking Value         0.005668       -0.000249        -0.000287  \n",
      "Ride Distance         1.000000       -0.001875         0.004514  \n",
      "Driver Ratings       -0.001875        1.000000        -0.001010  \n",
      "Customer Rating       0.004514       -0.001010         1.000000  \n",
      "Total Completed Rides: 93000.00\n",
      "Average Customer Rating: 4.40\n",
      "Average Driver Rating: 4.23\n",
      "Average Wait Time Difference: -21.52\n",
      "Average Booking Value: 508.18\n",
      "Average Ride Distance: 26.00\n",
      "High Rating Percentage: 86.13\n",
      "Rides with concerning wait times: 2892\n",
      "Rides with low customer ratings: 0\n"
     ]
    }
   ],
   "source": [
    "# Calculate correlation matrix for key numerical variables\n",
    "correlation_vars = [\"Avg VTAT\", \"Avg CTAT\", \"Wait Time Diff\", \"Booking Value\", \n",
    "                   \"Ride Distance\", \"Driver Ratings\", \"Customer Rating\"]\n",
    "correlation_matrix = cleaned[correlation_vars].corr()\n",
    "print(correlation_matrix)\n",
    "\n",
    "# Define and calculate key KPIs for dashboard\n",
    "kpis = {\n",
    "    \"Total Completed Rides\": len(cleaned),\n",
    "    \"Average Customer Rating\": cleaned[\"Customer Rating\"].mean(),\n",
    "    \"Average Driver Rating\": cleaned[\"Driver Ratings\"].mean(),\n",
    "    \"Average Wait Time Difference\": cleaned[\"Wait Time Diff\"].mean(),\n",
    "    \"Average Booking Value\": cleaned[\"Booking Value\"].mean(),\n",
    "    \"Average Ride Distance\": cleaned[\"Ride Distance\"].mean(),\n",
    "    \"High Rating Percentage\": (cleaned[\"Customer Rating\"] >= 4.0).mean() * 100\n",
    "}\n",
    "\n",
    "for kpi, value in kpis.items():\n",
    "    print(f\"{kpi}: {value:.2f}\")\n",
    "\n",
    "# Identify potential outliers or concerning patterns\n",
    "high_wait_rides = cleaned[cleaned[\"Wait Time Diff\"] > -5]  # Rides with minimal wait difference\n",
    "low_rating_rides = cleaned[cleaned[\"Customer Rating\"] < 3.0]  # Poor customer experience\n",
    "print(f\"Rides with concerning wait times: {len(high_wait_rides)}\")\n",
    "print(f\"Rides with low customer ratings: {len(low_rating_rides)}\")\n"
   ]
  },
  {
   "cell_type": "markdown",
   "metadata": {},
   "source": [
    "## Correlation and KPI Analysis\n",
    "The correlation matrix reveals that:\n",
    "* **Wait Time Diff and Avg CTAT**: There is a strong negative correlation (\n",
    "−\n",
    "0.92\n",
    "−0.92), indicating that as customer arrival times increase (later arrivals), the wait time difference becomes more negative.\n",
    "\n",
    "* **Wait Time Diff and Avg VTAT**: A moderate positive correlation (\n",
    "0.40\n",
    "0.40), suggesting that higher vehicle arrival times are moderately associated with greater wait time gaps.\n",
    "\n",
    "* **Booking Value, Ride Distance, Ratings**: Very weak (near-zero) correlations between operational/monetary metrics (booking value, distance) and service quality ratings, showing that in this data, satisfaction scores are not driven by fare or distance.\n",
    "\n",
    "* **Ratings**: Customer and driver ratings are not strongly correlated with wait times, booking value, or each other.\n",
    "\n",
    "\n",
    "Key KPIs:\n",
    "\n",
    "* Total Complet1. ed Rides: 93,000\n",
    "\n",
    "* Average Customer Rating: 4.40 (on a scale of 1–5, indicating high satisfaction)\n",
    "\n",
    "* Average Driver Rating: 4.23\n",
    "\n",
    "* Average Wait Time Difference: \n",
    "−\n",
    "21.52\n",
    "−21.52 minutes (on average, vehicles arrive ~21 minutes before customers)\n",
    "\n",
    "* Average Booking Value: ₹508.18\n",
    "\n",
    "* Average Ride Distance: 26.00 km\n",
    "\n",
    "* High Rating Percentage: 86.13% (most ratings are \"High\")\n",
    "\n",
    "* Rides with concerning wait times: 2,892 (where VTAT-CTAT > -5, suggesting tighter synchronization or operational issues)\n",
    "\n",
    "* Rides with low ratings: 0 (very high satisfaction overall)\n",
    "\n",
    "\n",
    "Insights\n",
    "\n",
    "* Customer satisfaction is very high, with almost no rides rated poorly.\n",
    "* Customer and driver ratings are not sensitive to fare, distance, or wait time in this dataset.\n",
    "* Most operational metrics are only weakly interrelated; only arrival times and wait time differences show strong or moderate associations.\n",
    "* Few rides have potentially concerning wait times that could deserve operational review."
   ]
  },
  {
   "cell_type": "markdown",
   "metadata": {},
   "source": [
    "# Dashboard Assembly and Data Storytelling\n",
    "\n",
    "## Step Description\n",
    "This stage designs and integrates visual elements, metrics, and filters for the interactive dashboard. Key trends, high-level KPIs, and diagnostic visualizations are selected to communicate principal findings and support business action.\n",
    "\n",
    "## Objectives\n",
    "- Arrange core KPIs (totals, averages, high satisfaction rates) as summary tiles.\n",
    "- Layout and link main visualizations (distribution charts, time-of-day patterns, rating breakdowns, segment summaries).\n",
    "- Enable filters for segmentation by time, vehicle type, location, and payment method.\n",
    "- Highlight callouts for outlier detection (e.g., concerning wait time bands).\n",
    "- Prepare concise narrative captions guiding users through the data story.\n",
    "\n",
    "## Report Notes\n",
    "Final dashboard assembly ensures all analytical insights are accessible and actionable for operational management and strategic decision-making. Data storytelling guides end-users to key findings and supports the continuous improvement of service quality.\n"
   ]
  },
  {
   "cell_type": "markdown",
   "metadata": {},
   "source": [
    "# Callback and Application Launch Instructions\n",
    "\n",
    "## Step Description\n",
    "- Callback functions connect dashboard filters and charts, enabling dynamic, real-time updates based on user selections.\n",
    "- Running `app.run_server()` launches the dashboard on a local URL (e.g., http://127.0.0.1:8050/) for interactive use.\n",
    "\n",
    "## Usage Notes\n",
    "- Access the dashboard in a web browser to interact with filters and view updated visual analytics.\n",
    "- Further enhancements can include advanced filtering, export features, drill-downs, and deployment to a production environment.\n",
    "\n",
    "## Report Notes\n",
    "Interactivity completes the dashboard as a practical business tool, enabling user-driven analysis and insight discovery.\n"
   ]
  },
  {
   "cell_type": "code",
   "execution_count": 23,
   "metadata": {
    "execution": {
     "iopub.execute_input": "2025-08-16T14:48:24.513159Z",
     "iopub.status.busy": "2025-08-16T14:48:24.512923Z",
     "iopub.status.idle": "2025-08-16T14:48:24.592534Z",
     "shell.execute_reply": "2025-08-16T14:48:24.591974Z",
     "shell.execute_reply.started": "2025-08-16T14:48:24.513143Z"
    },
    "trusted": true
   },
   "outputs": [
    {
     "data": {
      "text/html": [
       "\n",
       "        <iframe\n",
       "            width=\"100%\"\n",
       "            height=\"650\"\n",
       "            src=\"http://127.0.0.1:8050/\"\n",
       "            frameborder=\"0\"\n",
       "            allowfullscreen\n",
       "            \n",
       "        ></iframe>\n",
       "        "
      ],
      "text/plain": [
       "<IPython.lib.display.IFrame at 0x2376a086510>"
      ]
     },
     "metadata": {},
     "output_type": "display_data"
    }
   ],
   "source": [
    "import dash\n",
    "from dash import dcc, html, dash_table\n",
    "from dash.dependencies import Input, Output\n",
    "import plotly.express as px\n",
    "import pandas as pd\n",
    "\n",
    "# Initialize Dash app\n",
    "app = dash.Dash(__name__)\n",
    "\n",
    "# Calculate KPIs (assuming 'cleaned' DataFrame exists)\n",
    "total_completed_rides = len(cleaned)\n",
    "average_customer_rating = cleaned[\"Customer Rating\"].mean()\n",
    "average_driver_rating = cleaned[\"Driver Ratings\"].mean()\n",
    "average_wait_time_diff = cleaned[\"Wait Time Diff\"].mean()\n",
    "average_booking_value = cleaned[\"Booking Value\"].mean()\n",
    "high_rating_percentage = (cleaned[\"Customer Rating\"] >= 4.0).mean() * 100\n",
    "\n",
    "# Dashboard layout\n",
    "app.layout = html.Div([\n",
    "    html.H1(\"Uber Customer Journey Analytics Dashboard\", \n",
    "            style={'textAlign': 'center', 'marginBottom': '30px'}),\n",
    "\n",
    "    # KPI Cards\n",
    "    html.Div([\n",
    "        html.Div([html.H3(f\"{total_completed_rides:,}\"), html.P(\"Total Rides\")], className='kpi-card'),\n",
    "        html.Div([html.H3(f\"{average_customer_rating:.2f}\"), html.P(\"Avg Customer Rating\")], className='kpi-card'),\n",
    "        html.Div([html.H3(f\"{average_driver_rating:.2f}\"), html.P(\"Avg Driver Rating\")], className='kpi-card'),\n",
    "        html.Div([html.H3(f\"{average_wait_time_diff:.1f} min\"), html.P(\"Avg Wait Time Diff\")], className='kpi-card'),\n",
    "        html.Div([html.H3(f\"₹{average_booking_value:.0f}\"), html.P(\"Avg Booking Value\")], className='kpi-card'),\n",
    "        html.Div([html.H3(f\"{high_rating_percentage:.1f}%\"), html.P(\"High Rating %\")], className='kpi-card'),\n",
    "    ], style={\"display\": \"flex\", \"flexWrap\": \"wrap\", \"gap\": \"20px\", \"marginBottom\": \"30px\"}),\n",
    "\n",
    "    # Filters\n",
    "    html.Div([\n",
    "        dcc.Dropdown(id='vehicle-type-filter', \n",
    "                    options=[{'label': v, 'value': v} for v in cleaned[\"Vehicle Type\"].unique()],\n",
    "                    placeholder=\"Select Vehicle Type\", clearable=True),\n",
    "        dcc.Dropdown(id='payment-method-filter',\n",
    "                    options=[{'label': m, 'value': m} for m in cleaned[\"Payment Method\"].dropna().unique()],\n",
    "                    placeholder=\"Select Payment Method\", clearable=True)\n",
    "    ], style={\"display\": \"flex\", \"gap\": \"20px\", \"marginBottom\": \"30px\"}),\n",
    "\n",
    "    # Charts\n",
    "    html.Div([\n",
    "        dcc.Graph(id='wait-time-dist'),\n",
    "        dcc.Graph(id='ratings-by-hour')\n",
    "    ], style={\"display\": \"flex\", \"gap\": \"20px\"}),\n",
    "\n",
    "    # Summary table\n",
    "    dash_table.DataTable(id=\"segment-summary\")\n",
    "])\n",
    "\n",
    "# Callback for interactivity\n",
    "@app.callback(\n",
    "    [Output('wait-time-dist', 'figure'),\n",
    "     Output('ratings-by-hour', 'figure'), \n",
    "     Output('segment-summary', 'data')],\n",
    "    [Input('vehicle-type-filter', 'value'),\n",
    "     Input('payment-method-filter', 'value')]\n",
    ")\n",
    "def update_dashboard(vehicle_type, payment_method):\n",
    "    df_filtered = cleaned.copy()\n",
    "    \n",
    "    if vehicle_type:\n",
    "        df_filtered = df_filtered[df_filtered[\"Vehicle Type\"] == vehicle_type]\n",
    "    if payment_method:\n",
    "        df_filtered = df_filtered[df_filtered[\"Payment Method\"] == payment_method]\n",
    "\n",
    "    # Create visualizations\n",
    "    fig_wait = px.histogram(df_filtered, x=\"Wait Time Diff\", nbins=30, \n",
    "                           title=\"Wait Time Difference Distribution\")\n",
    "    fig_ratings = px.box(df_filtered, x='Hour', y='Customer Rating', \n",
    "                        title='Customer Ratings by Hour of Day')\n",
    "\n",
    "    # Create summary data\n",
    "    summary = df_filtered.groupby(\"Vehicle Type\").agg(\n",
    "        Num_Rides=(\"Booking ID\", \"count\"),\n",
    "        Avg_Wait_Diff=(\"Wait Time Diff\", \"mean\"),\n",
    "        Avg_Booking_Value=(\"Booking Value\", \"mean\"),\n",
    "        Avg_Rating=(\"Customer Rating\", \"mean\")\n",
    "    ).reset_index()\n",
    "\n",
    "    return fig_wait, fig_ratings, summary.to_dict(\"records\")\n",
    "\n",
    "# Run the application\n",
    "if __name__ == \"__main__\":\n",
    "    app.run(debug=True)\n"
   ]
  },
  {
   "cell_type": "code",
   "execution_count": null,
   "metadata": {},
   "outputs": [
    {
     "data": {
      "text/html": [
       "\n",
       "        <iframe\n",
       "            width=\"100%\"\n",
       "            height=\"650\"\n",
       "            src=\"http://127.0.0.1:8050/\"\n",
       "            frameborder=\"0\"\n",
       "            allowfullscreen\n",
       "            \n",
       "        ></iframe>\n",
       "        "
      ],
      "text/plain": [
       "<IPython.lib.display.IFrame at 0x2376b53ccd0>"
      ]
     },
     "metadata": {},
     "output_type": "display_data"
    }
   ],
   "source": []
  }
 ],
 "metadata": {
  "kaggle": {
   "accelerator": "nvidiaTeslaT4",
   "dataSources": [
    {
     "datasetId": 8032385,
     "sourceId": 12709507,
     "sourceType": "datasetVersion"
    }
   ],
   "dockerImageVersionId": 31090,
   "isGpuEnabled": true,
   "isInternetEnabled": true,
   "language": "python",
   "sourceType": "notebook"
  },
  "kernelspec": {
   "display_name": "Python 3",
   "language": "python",
   "name": "python3"
  },
  "language_info": {
   "codemirror_mode": {
    "name": "ipython",
    "version": 3
   },
   "file_extension": ".py",
   "mimetype": "text/x-python",
   "name": "python",
   "nbconvert_exporter": "python",
   "pygments_lexer": "ipython3",
   "version": "3.13.2"
  }
 },
 "nbformat": 4,
 "nbformat_minor": 4
}
